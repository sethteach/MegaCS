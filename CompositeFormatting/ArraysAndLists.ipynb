{
 "cells": [
  {
   "cell_type": "markdown",
   "id": "e1a01442",
   "metadata": {},
   "source": [
    "### Arrays and lists"
   ]
  },
  {
   "cell_type": "code",
   "execution_count": 1,
   "id": "84057ffa",
   "metadata": {
    "polyglot_notebook": {
     "kernelName": "csharp"
    }
   },
   "outputs": [],
   "source": [
    "public class Student\n",
    "{\n",
    "    public string LastName { get; set; }\n",
    "    public string FirstName { get; set; }\n",
    "\n",
    "    public Student(string lastname, string firstname)\n",
    "    {\n",
    "        this.LastName = lastname;\n",
    "        this.FirstName = firstname;\n",
    "    }\n",
    "}"
   ]
  },
  {
   "cell_type": "code",
   "execution_count": 2,
   "id": "fe82d60a",
   "metadata": {
    "polyglot_notebook": {
     "kernelName": "csharp"
    }
   },
   "outputs": [],
   "source": [
    "Student student1 = new Student(\"Ivanov\", \"Ivan\");\n",
    "Student student2 = new Student(\"Petrov\", \"Petr\");"
   ]
  },
  {
   "cell_type": "code",
   "execution_count": 3,
   "metadata": {
    "polyglot_notebook": {
     "kernelName": "csharp"
    }
   },
   "outputs": [
    {
     "name": "stdout",
     "output_type": "stream",
     "text": [
      "Ivanov Ivan\n",
      "Petrov Petr\n"
     ]
    }
   ],
   "source": [
    "Student[] studentArray = { student1, student2 };\n",
    "\n",
    "foreach (var s in studentArray)\n",
    "{\n",
    "    Console.WriteLine($\"{s.LastName} {s.FirstName}\");\n",
    "}"
   ]
  },
  {
   "cell_type": "code",
   "execution_count": 11,
   "metadata": {
    "polyglot_notebook": {
     "kernelName": "csharp"
    }
   },
   "outputs": [
    {
     "name": "stdout",
     "output_type": "stream",
     "text": [
      "Ivanov Ivan\n",
      "Petrov Petr\n"
     ]
    }
   ],
   "source": [
    "List<Student> studentList = new List<Student>();\n",
    "\n",
    "studentList.Add(student1);\n",
    "studentList.Add(student2);\n",
    "\n",
    "foreach (var s in studentList)\n",
    "    Console.WriteLine($\"{s.LastName} {s.FirstName}\");"
   ]
  },
  {
   "cell_type": "code",
   "execution_count": 12,
   "metadata": {
    "polyglot_notebook": {
     "kernelName": "csharp"
    }
   },
   "outputs": [
    {
     "name": "stdout",
     "output_type": "stream",
     "text": [
      "Ivanov Ivan\n",
      "Petrov Petr\n"
     ]
    }
   ],
   "source": [
    "List<Student> studentList = new List<Student>(new Student[] {student1, student2});\n",
    "\n",
    "foreach (var s in studentList)\n",
    "    Console.WriteLine($\"{s.LastName} {s.FirstName}\");"
   ]
  }
 ],
 "metadata": {
  "kernelspec": {
   "display_name": ".NET (C#)",
   "language": "C#",
   "name": ".net-csharp"
  },
  "polyglot_notebook": {
   "kernelInfo": {
    "defaultKernelName": "csharp",
    "items": [
     {
      "aliases": [],
      "languageName": "csharp",
      "name": "csharp"
     }
    ]
   }
  }
 },
 "nbformat": 4,
 "nbformat_minor": 5
}

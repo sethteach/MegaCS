{
 "cells": [
  {
   "cell_type": "markdown",
   "id": "e1a01442",
   "metadata": {},
   "source": [
    "### Composite formatting"
   ]
  },
  {
   "cell_type": "markdown",
   "id": "945a99cc",
   "metadata": {},
   "source": [
    "**Use cases**:\n",
    "- String interpolation: `$\"This is int {some_int}\";`\n",
    "- Format method: `string.Format(\"This is another int {0}\", another_int);`\n",
    "- ToString method: `some_string.ToString(\"\");`"
   ]
  },
  {
   "cell_type": "markdown",
   "id": "f225faba",
   "metadata": {},
   "source": [
    "**Format**:\n",
    "\n",
    "`{index,width:format}`"
   ]
  },
  {
   "cell_type": "markdown",
   "id": "ec9fa813",
   "metadata": {},
   "source": [
    "#### Numeric\n",
    "- b, B - binary\n",
    "- d, D - decimal\n",
    "- f, F - fixed point\n",
    "- x, X - hexadecimal"
   ]
  },
  {
   "cell_type": "code",
   "execution_count": 26,
   "id": "84057ffa",
   "metadata": {
    "polyglot_notebook": {
     "kernelName": "csharp"
    }
   },
   "outputs": [],
   "source": [
    "int i = 15;\n",
    "double d = 16.789;"
   ]
  },
  {
   "cell_type": "markdown",
   "id": "97886f65",
   "metadata": {},
   "source": [
    "##### ToString"
   ]
  },
  {
   "cell_type": "code",
   "execution_count": 7,
   "id": "86923dc2",
   "metadata": {
    "polyglot_notebook": {
     "kernelName": "csharp"
    }
   },
   "outputs": [
    {
     "data": {
      "text/plain": [
       "15"
      ]
     },
     "metadata": {},
     "output_type": "display_data"
    }
   ],
   "source": [
    "i.ToString()"
   ]
  },
  {
   "cell_type": "code",
   "execution_count": 9,
   "metadata": {
    "polyglot_notebook": {
     "kernelName": "csharp"
    }
   },
   "outputs": [
    {
     "data": {
      "text/plain": [
       "1111"
      ]
     },
     "metadata": {},
     "output_type": "display_data"
    }
   ],
   "source": [
    "i.ToString(\"b\")"
   ]
  },
  {
   "cell_type": "code",
   "execution_count": 11,
   "metadata": {
    "polyglot_notebook": {
     "kernelName": "csharp"
    }
   },
   "outputs": [
    {
     "data": {
      "text/plain": [
       "15"
      ]
     },
     "metadata": {},
     "output_type": "display_data"
    }
   ],
   "source": [
    "i.ToString(\"d\")"
   ]
  },
  {
   "cell_type": "code",
   "execution_count": 16,
   "metadata": {
    "polyglot_notebook": {
     "kernelName": "csharp"
    }
   },
   "outputs": [
    {
     "data": {
      "text/plain": [
       "0015"
      ]
     },
     "metadata": {},
     "output_type": "display_data"
    }
   ],
   "source": [
    "i.ToString(\"d4\")"
   ]
  },
  {
   "cell_type": "code",
   "execution_count": 18,
   "metadata": {
    "polyglot_notebook": {
     "kernelName": "csharp"
    }
   },
   "outputs": [
    {
     "data": {
      "text/plain": [
       "15.000"
      ]
     },
     "metadata": {},
     "output_type": "display_data"
    }
   ],
   "source": [
    "i.ToString(\"f\")"
   ]
  },
  {
   "cell_type": "code",
   "execution_count": 20,
   "metadata": {
    "polyglot_notebook": {
     "kernelName": "csharp"
    }
   },
   "outputs": [
    {
     "data": {
      "text/plain": [
       "15.0000000"
      ]
     },
     "metadata": {},
     "output_type": "display_data"
    }
   ],
   "source": [
    "i.ToString(\"f7\")"
   ]
  },
  {
   "cell_type": "code",
   "execution_count": 23,
   "metadata": {
    "polyglot_notebook": {
     "kernelName": "csharp"
    }
   },
   "outputs": [
    {
     "data": {
      "text/plain": [
       "F"
      ]
     },
     "metadata": {},
     "output_type": "display_data"
    }
   ],
   "source": [
    "i.ToString(\"X\")"
   ]
  },
  {
   "cell_type": "markdown",
   "id": "7ce89b97",
   "metadata": {},
   "source": [
    "##### Format"
   ]
  },
  {
   "cell_type": "code",
   "execution_count": 46,
   "metadata": {
    "polyglot_notebook": {
     "kernelName": "csharp"
    }
   },
   "outputs": [
    {
     "data": {
      "text/plain": [
       "|        15|16.78900       |"
      ]
     },
     "metadata": {},
     "output_type": "display_data"
    }
   ],
   "source": [
    "string.Format(\"|{0, 10 :d}|{1, -15 :f5}|\", i, d)"
   ]
  },
  {
   "cell_type": "markdown",
   "id": "2da79ee3",
   "metadata": {},
   "source": [
    "##### WriteLine"
   ]
  },
  {
   "cell_type": "code",
   "execution_count": 47,
   "metadata": {
    "polyglot_notebook": {
     "kernelName": "csharp"
    }
   },
   "outputs": [
    {
     "name": "stdout",
     "output_type": "stream",
     "text": [
      "|        15|16.78900       |\r\n"
     ]
    }
   ],
   "source": [
    "Console.WriteLine(\"|{0, 10 :d}|{1, -15 :f5}|\", i, d)"
   ]
  },
  {
   "cell_type": "code",
   "execution_count": 53,
   "metadata": {
    "polyglot_notebook": {
     "kernelName": "csharp"
    }
   },
   "outputs": [
    {
     "name": "stdout",
     "output_type": "stream",
     "text": [
      "|        15|16.78900       |\r\n"
     ]
    }
   ],
   "source": [
    "Console.WriteLine($\"|{i, 10 :d}|{d, -15 :f5}|\")"
   ]
  },
  {
   "cell_type": "markdown",
   "id": "f9df0ce6",
   "metadata": {},
   "source": [
    "#### Strings"
   ]
  },
  {
   "cell_type": "code",
   "execution_count": 56,
   "metadata": {
    "polyglot_notebook": {
     "kernelName": "csharp"
    }
   },
   "outputs": [],
   "source": [
    "string s = \"This is a string\";"
   ]
  },
  {
   "cell_type": "code",
   "execution_count": 64,
   "metadata": {
    "polyglot_notebook": {
     "kernelName": "csharp"
    }
   },
   "outputs": [
    {
     "data": {
      "text/plain": [
       "|This is a string              |"
      ]
     },
     "metadata": {},
     "output_type": "display_data"
    }
   ],
   "source": [
    "string.Format(\"|{0, -30}|\", s)"
   ]
  },
  {
   "cell_type": "code",
   "execution_count": 66,
   "metadata": {
    "polyglot_notebook": {
     "kernelName": "csharp"
    }
   },
   "outputs": [
    {
     "name": "stdout",
     "output_type": "stream",
     "text": [
      "|This is a string              |\r\n"
     ]
    }
   ],
   "source": [
    "Console.WriteLine(\"|{0, -30}|\", s)"
   ]
  },
  {
   "cell_type": "code",
   "execution_count": 67,
   "metadata": {
    "polyglot_notebook": {
     "kernelName": "csharp"
    }
   },
   "outputs": [
    {
     "name": "stdout",
     "output_type": "stream",
     "text": [
      "|This is a string              |\r\n"
     ]
    }
   ],
   "source": [
    "Console.WriteLine($\"|{s, -30}|\")"
   ]
  },
  {
   "cell_type": "markdown",
   "id": "0437f63d",
   "metadata": {},
   "source": [
    "#### Dates"
   ]
  },
  {
   "cell_type": "markdown",
   "id": "39ed5385",
   "metadata": {},
   "source": [
    "- d - short date\n",
    "- D - long date\n",
    "- m, M - month/day"
   ]
  },
  {
   "cell_type": "code",
   "execution_count": 84,
   "metadata": {
    "polyglot_notebook": {
     "kernelName": "csharp"
    }
   },
   "outputs": [],
   "source": [
    "DateTime dt = DateTime.Now;"
   ]
  },
  {
   "cell_type": "code",
   "execution_count": 72,
   "metadata": {
    "polyglot_notebook": {
     "kernelName": "csharp"
    }
   },
   "outputs": [
    {
     "data": {
      "text/html": [
       "<span>2025-04-22 07:58:20Z</span>"
      ]
     },
     "metadata": {},
     "output_type": "display_data"
    }
   ],
   "source": [
    "dt"
   ]
  },
  {
   "cell_type": "code",
   "execution_count": 74,
   "metadata": {
    "polyglot_notebook": {
     "kernelName": "csharp"
    }
   },
   "outputs": [
    {
     "name": "stdout",
     "output_type": "stream",
     "text": [
      "4/22/2025                     \r\n"
     ]
    }
   ],
   "source": [
    "Console.WriteLine($\"{dt, -30 :d}\")"
   ]
  },
  {
   "cell_type": "code",
   "execution_count": 76,
   "metadata": {
    "polyglot_notebook": {
     "kernelName": "csharp"
    }
   },
   "outputs": [
    {
     "name": "stdout",
     "output_type": "stream",
     "text": [
      "Tuesday, April 22, 2025       \r\n"
     ]
    }
   ],
   "source": [
    "Console.WriteLine($\"{dt, -30 :D}\")"
   ]
  },
  {
   "cell_type": "code",
   "execution_count": 77,
   "metadata": {
    "polyglot_notebook": {
     "kernelName": "csharp"
    }
   },
   "outputs": [
    {
     "name": "stdout",
     "output_type": "stream",
     "text": [
      "April 22                      \r\n"
     ]
    }
   ],
   "source": [
    "Console.WriteLine($\"{dt, -30 :m}\")"
   ]
  },
  {
   "cell_type": "markdown",
   "id": "d606f977",
   "metadata": {},
   "source": [
    "##### Custom date/time"
   ]
  },
  {
   "cell_type": "markdown",
   "id": "fabf5c49",
   "metadata": {},
   "source": [
    "- yyyy - year\n",
    "- M - month\n",
    "- d - day\n",
    "- H - hour\n",
    "- m - minute\n",
    "- s - second"
   ]
  },
  {
   "cell_type": "code",
   "execution_count": 90,
   "metadata": {
    "polyglot_notebook": {
     "kernelName": "csharp"
    }
   },
   "outputs": [
    {
     "name": "stdout",
     "output_type": "stream",
     "text": [
      "2025-4-22, 8:4:13             \r\n"
     ]
    }
   ],
   "source": [
    "Console.WriteLine($\"{dt, -30 :yyyy-M-d, H:m:s}\")"
   ]
  },
  {
   "cell_type": "code",
   "execution_count": 93,
   "metadata": {
    "polyglot_notebook": {
     "kernelName": "csharp"
    }
   },
   "outputs": [
    {
     "name": "stdout",
     "output_type": "stream",
     "text": [
      "2025-04-22, 08:04:13          \r\n"
     ]
    }
   ],
   "source": [
    "Console.WriteLine($\"{dt, -30 :yyyy-MM-dd, HH:mm:ss}\")"
   ]
  },
  {
   "cell_type": "code",
   "execution_count": 94,
   "metadata": {
    "polyglot_notebook": {
     "kernelName": "csharp"
    }
   },
   "outputs": [
    {
     "data": {
      "text/plain": [
       "2025-04-22, 08:04:13          "
      ]
     },
     "metadata": {},
     "output_type": "display_data"
    }
   ],
   "source": [
    "string.Format(\"{0, -30 :yyyy-MM-dd, HH:mm:ss}\", dt)"
   ]
  },
  {
   "cell_type": "code",
   "execution_count": 95,
   "metadata": {
    "polyglot_notebook": {
     "kernelName": "csharp"
    }
   },
   "outputs": [
    {
     "data": {
      "text/plain": [
       "2025-04-22, 08:04:13          "
      ]
     },
     "metadata": {},
     "output_type": "display_data"
    }
   ],
   "source": [
    "string format = \"{0, -30 :yyyy-MM-dd, HH:mm:ss}\";\n",
    "string.Format(format, dt)"
   ]
  }
 ],
 "metadata": {
  "kernelspec": {
   "display_name": ".NET (C#)",
   "language": "C#",
   "name": ".net-csharp"
  },
  "polyglot_notebook": {
   "kernelInfo": {
    "defaultKernelName": "csharp",
    "items": [
     {
      "aliases": [],
      "languageName": "csharp",
      "name": "csharp"
     }
    ]
   }
  }
 },
 "nbformat": 4,
 "nbformat_minor": 5
}

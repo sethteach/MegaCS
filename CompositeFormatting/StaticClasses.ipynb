{
 "cells": [
  {
   "cell_type": "markdown",
   "id": "e1a01442",
   "metadata": {},
   "source": [
    "### Static Classes"
   ]
  },
  {
   "cell_type": "code",
   "execution_count": 6,
   "id": "84057ffa",
   "metadata": {
    "polyglot_notebook": {
     "kernelName": "csharp"
    }
   },
   "outputs": [],
   "source": [
    "public static class TheStaticClass\n",
    "{\n",
    "    public static void Method1(string st)\n",
    "    {\n",
    "        Console.WriteLine(st);\n",
    "    }\n",
    "\n",
    "    public static int Method2(int a, int b)\n",
    "    {\n",
    "        return a + b;\n",
    "    }\n",
    "}"
   ]
  },
  {
   "cell_type": "code",
   "execution_count": 3,
   "metadata": {
    "polyglot_notebook": {
     "kernelName": "csharp"
    }
   },
   "outputs": [
    {
     "name": "stdout",
     "output_type": "stream",
     "text": [
      "Hello\r\n"
     ]
    }
   ],
   "source": [
    "TheStaticClass.Method1(\"Hello\");"
   ]
  },
  {
   "cell_type": "code",
   "execution_count": 8,
   "metadata": {
    "polyglot_notebook": {
     "kernelName": "csharp"
    }
   },
   "outputs": [
    {
     "name": "stdout",
     "output_type": "stream",
     "text": [
      "26\r\n"
     ]
    }
   ],
   "source": [
    "int c = TheStaticClass.Method2(15, 11);\n",
    "Console.WriteLine(c);"
   ]
  }
 ],
 "metadata": {
  "kernelspec": {
   "display_name": ".NET (C#)",
   "language": "C#",
   "name": ".net-csharp"
  },
  "polyglot_notebook": {
   "kernelInfo": {
    "defaultKernelName": "csharp",
    "items": [
     {
      "aliases": [],
      "languageName": "csharp",
      "name": "csharp"
     }
    ]
   }
  }
 },
 "nbformat": 4,
 "nbformat_minor": 5
}
